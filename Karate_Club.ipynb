{
 "cells": [
  {
   "cell_type": "markdown",
   "id": "32920772-81c1-4ad2-8bec-998a0bee890f",
   "metadata": {},
   "source": [
    "### Documentation: https://geomstats.github.io/notebooks/13_real_world_applications__graph_embedding_and_clustering_in_hyperbolic_space.html"
   ]
  },
  {
   "cell_type": "code",
   "execution_count": 19,
   "id": "dfc95339-7845-4bea-97fa-f0b52d52617a",
   "metadata": {},
   "outputs": [],
   "source": [
    "import logging\n",
    "import matplotlib.pyplot as plt\n",
    "from scipy import optimize\n",
    "import geomstats.backend as gs\n",
    "#import geomstats.visualization as visualization\n",
    "from geomstats.datasets.utils import load_karate_graph\n",
    "from geomstats.geometry.poincare_ball import PoincareBall"
   ]
  },
  {
   "cell_type": "code",
   "execution_count": 5,
   "id": "1b28cb92-5e02-467c-aeb6-fe44021757fd",
   "metadata": {},
   "outputs": [],
   "source": [
    "gs.random.seed(1234)\n",
    "dim = 2\n",
    "max_epochs = 100\n",
    "lr = 0.05\n",
    "n_negative = 2\n",
    "context_size = 1\n",
    "karate_graph = load_karate_graph()"
   ]
  },
  {
   "cell_type": "code",
   "execution_count": 6,
   "id": "95c799a7-9dd9-4d37-9c3b-b941276864f0",
   "metadata": {},
   "outputs": [
    {
     "name": "stderr",
     "output_type": "stream",
     "text": [
      "INFO: Number of vertices: 34\n",
      "INFO: Mean edge-vertex ratio: 4.588235294117647\n"
     ]
    }
   ],
   "source": [
    "nb_vertices_by_edges = [len(e_2) for _, e_2 in karate_graph.edges.items()]\n",
    "logging.info(\"Number of vertices: %s\", len(karate_graph.edges))\n",
    "logging.info(\n",
    "    \"Mean edge-vertex ratio: %s\",\n",
    "    (sum(nb_vertices_by_edges, 0) / len(karate_graph.edges)),\n",
    ")"
   ]
  },
  {
   "cell_type": "code",
   "execution_count": 7,
   "id": "8c44d411-1b7e-40e3-82fc-7b3b6884aa75",
   "metadata": {},
   "outputs": [],
   "source": [
    "hyperbolic_manifold = PoincareBall(2)"
   ]
  },
  {
   "cell_type": "code",
   "execution_count": 8,
   "id": "3db8494d-383e-4dad-b50e-8450bc297dd9",
   "metadata": {},
   "outputs": [],
   "source": [
    "def grad_squared_distance(point_a, point_b):\n",
    "    \"\"\"Gradient of squared hyperbolic distance.\n",
    "\n",
    "    Gradient of the squared distance based on the\n",
    "    Ball representation according to point_a\n",
    "\n",
    "    Parameters\n",
    "    ----------\n",
    "    point_a : array-like, shape=[n_samples, dim]\n",
    "        First point in hyperbolic space.\n",
    "    point_b : array-like, shape=[n_samples, dim]\n",
    "        Second point in hyperbolic space.\n",
    "\n",
    "    Returns\n",
    "    -------\n",
    "    dist : array-like, shape=[n_samples, 1]\n",
    "        Geodesic squared distance between the two points.\n",
    "    \"\"\"\n",
    "    log_map = PoincareBall(2).metric.log(point_b, point_a)\n",
    "\n",
    "    return -2 * log_map"
   ]
  },
  {
   "cell_type": "code",
   "execution_count": 9,
   "id": "89f728d0-46d4-4a9a-9973-664787c64f1b",
   "metadata": {},
   "outputs": [],
   "source": [
    "def log_sigmoid(vector):\n",
    "    \"\"\"Logsigmoid function.\n",
    "\n",
    "    Apply log sigmoid function\n",
    "\n",
    "    Parameters\n",
    "    ----------\n",
    "    vector : array-like, shape=[n_samples, dim]\n",
    "\n",
    "    Returns\n",
    "    -------\n",
    "    result : array-like, shape=[n_samples, dim]\n",
    "    \"\"\"\n",
    "    return gs.log((1 / (1 + gs.exp(-vector))))"
   ]
  },
  {
   "cell_type": "code",
   "execution_count": 10,
   "id": "2df3a4fc-e504-47ec-82bf-3ac3ee4b11e9",
   "metadata": {},
   "outputs": [],
   "source": [
    "def grad_log_sigmoid(vector):\n",
    "    \"\"\"Gradient of log sigmoid function.\n",
    "\n",
    "    Parameters\n",
    "    ----------\n",
    "    vector : array-like, shape=[n_samples, dim]\n",
    "\n",
    "    Returns\n",
    "    -------\n",
    "    gradient : array-like, shape=[n_samples, dim]\n",
    "    \"\"\"\n",
    "    return 1 / (1 + gs.exp(vector))"
   ]
  },
  {
   "cell_type": "code",
   "execution_count": 11,
   "id": "feeba7fe-c09d-4957-9e1b-a046e2496d34",
   "metadata": {},
   "outputs": [],
   "source": [
    "def loss(example_embedding, context_embedding, negative_embedding, manifold):\n",
    "    \"\"\"Compute loss and grad.\n",
    "\n",
    "    Compute loss and grad given embedding of the current example,\n",
    "    embedding of the context and negative sampling embedding.\n",
    "    \"\"\"\n",
    "    n_edges, dim = negative_embedding.shape[0], example_embedding.shape[-1]\n",
    "    example_embedding = gs.expand_dims(example_embedding, 0)\n",
    "    context_embedding = gs.expand_dims(context_embedding, 0)\n",
    "    positive_distance = manifold.metric.squared_dist(\n",
    "        example_embedding, context_embedding\n",
    "    )\n",
    "    positive_loss = log_sigmoid(-positive_distance)\n",
    "\n",
    "    reshaped_example_embedding = gs.repeat(example_embedding, n_edges, axis=0)\n",
    "    negative_distance = manifold.metric.squared_dist(\n",
    "        reshaped_example_embedding, negative_embedding\n",
    "    )\n",
    "    negative_loss = log_sigmoid(negative_distance)\n",
    "\n",
    "    total_loss = -(positive_loss + negative_loss.sum())\n",
    "\n",
    "    positive_log_sigmoid_grad = -grad_log_sigmoid(-positive_distance)\n",
    "\n",
    "    positive_distance_grad = grad_squared_distance(example_embedding, context_embedding)\n",
    "\n",
    "    positive_grad = (\n",
    "        gs.repeat(positive_log_sigmoid_grad, dim, axis=-1) * positive_distance_grad\n",
    "    )\n",
    "\n",
    "    negative_distance_grad = grad_squared_distance(\n",
    "        reshaped_example_embedding, negative_embedding\n",
    "    )\n",
    "\n",
    "    negative_distance = gs.to_ndarray(negative_distance, to_ndim=2, axis=-1)\n",
    "    negative_log_sigmoid_grad = grad_log_sigmoid(negative_distance)\n",
    "\n",
    "    negative_grad = negative_log_sigmoid_grad * negative_distance_grad\n",
    "    example_grad = -(positive_grad + negative_grad.sum(axis=0))\n",
    "\n",
    "    return total_loss, example_grad"
   ]
  },
  {
   "cell_type": "code",
   "execution_count": 12,
   "id": "a33fb583-ee27-445b-9263-d41ad8dca9fe",
   "metadata": {},
   "outputs": [],
   "source": [
    "embeddings = gs.random.normal(size=(karate_graph.n_nodes, dim))\n",
    "embeddings = embeddings * 0.2"
   ]
  },
  {
   "cell_type": "code",
   "execution_count": 13,
   "id": "d40f2d0e-00e0-42ea-bc8d-fef63bb1458e",
   "metadata": {},
   "outputs": [],
   "source": [
    "random_walks = karate_graph.random_walk()"
   ]
  },
  {
   "cell_type": "code",
   "execution_count": 14,
   "id": "0bedd02d-99ec-4b38-b96d-7f654b18b7aa",
   "metadata": {},
   "outputs": [],
   "source": [
    "negative_table_parameter = 5\n",
    "negative_sampling_table = []\n",
    "\n",
    "for i, nb_v in enumerate(nb_vertices_by_edges):\n",
    "    negative_sampling_table += (\n",
    "        [i] * int((nb_v ** (3.0 / 4.0))) * negative_table_parameter\n",
    "    )\n",
    "\n",
    "negative_sampling_table = gs.array(negative_sampling_table)"
   ]
  },
  {
   "cell_type": "code",
   "execution_count": 16,
   "id": "215532c7-326a-46d0-b781-47e6e3e25b1c",
   "metadata": {
    "scrolled": true,
    "tags": []
   },
   "outputs": [
    {
     "name": "stderr",
     "output_type": "stream",
     "text": [
      "INFO: iteration 0 loss_value 1.793370\n",
      "INFO: iteration 1 loss_value 1.721339\n",
      "INFO: iteration 2 loss_value 1.702786\n",
      "INFO: iteration 3 loss_value 1.662323\n",
      "INFO: iteration 4 loss_value 1.633876\n",
      "INFO: iteration 5 loss_value 1.613260\n",
      "INFO: iteration 6 loss_value 1.585243\n",
      "INFO: iteration 7 loss_value 1.576066\n",
      "INFO: iteration 8 loss_value 1.573680\n",
      "INFO: iteration 9 loss_value 1.536430\n",
      "INFO: iteration 10 loss_value 1.544905\n",
      "INFO: iteration 11 loss_value 1.501347\n",
      "INFO: iteration 12 loss_value 1.491109\n",
      "INFO: iteration 13 loss_value 1.456059\n",
      "INFO: iteration 14 loss_value 1.455456\n",
      "INFO: iteration 15 loss_value 1.443429\n",
      "INFO: iteration 16 loss_value 1.396469\n",
      "INFO: iteration 17 loss_value 1.433710\n",
      "INFO: iteration 18 loss_value 1.420104\n",
      "INFO: iteration 19 loss_value 1.355044\n",
      "INFO: iteration 20 loss_value 1.346814\n",
      "INFO: iteration 21 loss_value 1.337880\n",
      "INFO: iteration 22 loss_value 1.352726\n",
      "INFO: iteration 23 loss_value 1.319254\n",
      "INFO: iteration 24 loss_value 1.352625\n",
      "INFO: iteration 25 loss_value 1.337129\n",
      "INFO: iteration 26 loss_value 1.317154\n",
      "INFO: iteration 27 loss_value 1.309045\n",
      "INFO: iteration 28 loss_value 1.358925\n",
      "INFO: iteration 29 loss_value 1.332207\n",
      "INFO: iteration 30 loss_value 1.300313\n",
      "INFO: iteration 31 loss_value 1.317285\n",
      "INFO: iteration 32 loss_value 1.275869\n",
      "INFO: iteration 33 loss_value 1.302678\n",
      "INFO: iteration 34 loss_value 1.303577\n",
      "INFO: iteration 35 loss_value 1.312621\n",
      "INFO: iteration 36 loss_value 1.321349\n",
      "INFO: iteration 37 loss_value 1.301614\n",
      "INFO: iteration 38 loss_value 1.280549\n",
      "INFO: iteration 39 loss_value 1.280484\n",
      "INFO: iteration 40 loss_value 1.307593\n",
      "INFO: iteration 41 loss_value 1.283856\n",
      "INFO: iteration 42 loss_value 1.299587\n",
      "INFO: iteration 43 loss_value 1.263614\n",
      "INFO: iteration 44 loss_value 1.288819\n",
      "INFO: iteration 45 loss_value 1.294882\n",
      "INFO: iteration 46 loss_value 1.277686\n",
      "INFO: iteration 47 loss_value 1.287923\n",
      "INFO: iteration 48 loss_value 1.304521\n",
      "INFO: iteration 49 loss_value 1.291618\n",
      "INFO: iteration 50 loss_value 1.305574\n",
      "INFO: iteration 51 loss_value 1.301759\n",
      "INFO: iteration 52 loss_value 1.300255\n",
      "INFO: iteration 53 loss_value 1.282958\n",
      "INFO: iteration 54 loss_value 1.319549\n",
      "INFO: iteration 55 loss_value 1.299992\n",
      "INFO: iteration 56 loss_value 1.313389\n",
      "INFO: iteration 57 loss_value 1.288660\n",
      "INFO: iteration 58 loss_value 1.315550\n",
      "INFO: iteration 59 loss_value 1.316487\n",
      "INFO: iteration 60 loss_value 1.315613\n",
      "INFO: iteration 61 loss_value 1.296887\n",
      "INFO: iteration 62 loss_value 1.324760\n",
      "INFO: iteration 63 loss_value 1.326517\n",
      "INFO: iteration 64 loss_value 1.302657\n",
      "INFO: iteration 65 loss_value 1.286535\n",
      "INFO: iteration 66 loss_value 1.309633\n",
      "INFO: iteration 67 loss_value 1.291330\n",
      "INFO: iteration 68 loss_value 1.290976\n",
      "INFO: iteration 69 loss_value 1.305331\n",
      "INFO: iteration 70 loss_value 1.297657\n",
      "INFO: iteration 71 loss_value 1.283106\n",
      "INFO: iteration 72 loss_value 1.263052\n",
      "INFO: iteration 73 loss_value 1.298537\n",
      "INFO: iteration 74 loss_value 1.302654\n",
      "INFO: iteration 75 loss_value 1.290962\n",
      "INFO: iteration 76 loss_value 1.315943\n",
      "INFO: iteration 77 loss_value 1.294335\n",
      "INFO: iteration 78 loss_value 1.280630\n",
      "INFO: iteration 79 loss_value 1.274913\n",
      "INFO: iteration 80 loss_value 1.318240\n",
      "INFO: iteration 81 loss_value 1.309262\n",
      "INFO: iteration 82 loss_value 1.312534\n",
      "INFO: iteration 83 loss_value 1.341124\n",
      "INFO: iteration 84 loss_value 1.308474\n",
      "INFO: iteration 85 loss_value 1.285613\n",
      "INFO: iteration 86 loss_value 1.316456\n",
      "INFO: iteration 87 loss_value 1.324967\n",
      "INFO: iteration 88 loss_value 1.285287\n",
      "INFO: iteration 89 loss_value 1.313862\n",
      "INFO: iteration 90 loss_value 1.308662\n",
      "INFO: iteration 91 loss_value 1.292473\n",
      "INFO: iteration 92 loss_value 1.301426\n",
      "INFO: iteration 93 loss_value 1.301823\n",
      "INFO: iteration 94 loss_value 1.278330\n",
      "INFO: iteration 95 loss_value 1.305268\n",
      "INFO: iteration 96 loss_value 1.292643\n",
      "INFO: iteration 97 loss_value 1.315182\n",
      "INFO: iteration 98 loss_value 1.298133\n",
      "INFO: iteration 99 loss_value 1.294447\n"
     ]
    }
   ],
   "source": [
    "for epoch in range(max_epochs):\n",
    "    total_loss = []\n",
    "    for path in random_walks:\n",
    "        for example_index, one_path in enumerate(path):\n",
    "            context_index = path[\n",
    "                max(0, example_index - context_size) : min(\n",
    "                    example_index + context_size, len(path)\n",
    "                )\n",
    "            ]\n",
    "            negative_index = gs.random.randint(\n",
    "                negative_sampling_table.shape[0], size=(len(context_index), n_negative)\n",
    "            )\n",
    "            negative_index = negative_sampling_table[negative_index]\n",
    "\n",
    "            example_embedding = embeddings[one_path]\n",
    "            for one_context_i, one_negative_i in zip(context_index, negative_index):\n",
    "                context_embedding = embeddings[one_context_i]\n",
    "                negative_embedding = embeddings[one_negative_i]\n",
    "                total_loss_, g_ex = loss(\n",
    "                    example_embedding,\n",
    "                    context_embedding,\n",
    "                    negative_embedding,\n",
    "                    hyperbolic_manifold,\n",
    "                )\n",
    "                total_loss.append(total_loss_)\n",
    "\n",
    "                example_to_update = embeddings[one_path]\n",
    "                embeddings[one_path] = hyperbolic_manifold.metric.exp(\n",
    "                    -lr * g_ex, example_to_update\n",
    "                )\n",
    "    logging.info(\n",
    "        \"iteration %d loss_value %f\", epoch, sum(total_loss, 0) / len(total_loss)\n",
    "    )"
   ]
  },
  {
   "cell_type": "code",
   "execution_count": 18,
   "id": "7040131f-5a51-430d-9c13-8c8873760329",
   "metadata": {},
   "outputs": [
    {
     "data": {
      "image/png": "[encoded data removed]",
      "text/plain": [
       "<Figure size 576x576 with 1 Axes>"
      ]
     },
     "metadata": {
      "needs_background": "light"
     },
     "output_type": "display_data"
    }
   ],
   "source": [
    "import matplotlib.patches as mpatches\n",
    "\n",
    "colors = {1: \"b\", 2: \"r\"}\n",
    "group_1 = mpatches.Patch(color=colors[1], label=\"Group 1\")\n",
    "group_2 = mpatches.Patch(color=colors[2], label=\"Group 2\")\n",
    "\n",
    "#circle = visualization.PoincareDisk(coords_type=\"ball\")\n",
    "\n",
    "fig, ax = plt.subplots(figsize=(8, 8))\n",
    "ax.axes.xaxis.set_visible(False)\n",
    "ax.axes.yaxis.set_visible(False)\n",
    "#circle.set_ax(ax)\n",
    "#circle.draw(ax=ax)\n",
    "for i_embedding, embedding in enumerate(embeddings):\n",
    "    x = embedding[0]\n",
    "    y = embedding[1]\n",
    "    pt_id = i_embedding\n",
    "    plt.scatter(x, y, c=colors[karate_graph.labels[pt_id][0]], s=150)\n",
    "    ax.annotate(pt_id, (x, y))\n",
    "\n",
    "plt.tick_params(which=\"both\")\n",
    "plt.title(\"Poincare Ball Embedding of the Karate Club Network\")\n",
    "plt.legend(handles=[group_1, group_2])\n",
    "plt.show()"
   ]
  },
  {
   "cell_type": "code",
   "execution_count": null,
   "id": "fa15f991-da99-40b1-9fcd-006ff1632366",
   "metadata": {},
   "outputs": [],
   "source": []
  }
 ],
 "metadata": {
  "kernelspec": {
   "display_name": "Python 3 (ipykernel)",
   "language": "python",
   "name": "python3"
  },
  "language_info": {
   "codemirror_mode": {
    "name": "ipython",
    "version": 3
   },
   "file_extension": ".py",
   "mimetype": "text/x-python",
   "name": "python",
   "nbconvert_exporter": "python",
   "pygments_lexer": "ipython3",
   "version": "3.9.12"
  }
 },
 "nbformat": 4,
 "nbformat_minor": 5
}
